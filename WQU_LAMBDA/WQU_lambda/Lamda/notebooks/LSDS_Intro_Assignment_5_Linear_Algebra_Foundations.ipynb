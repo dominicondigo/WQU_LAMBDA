{
  "nbformat": 4,
  "nbformat_minor": 0,
  "metadata": {
    "colab": {
      "name": "LSDS Intro Assignment 5 - Linear Algebra Foundations.ipynb",
      "version": "0.3.2",
      "provenance": [],
      "collapsed_sections": []
    },
    "kernelspec": {
      "name": "python3",
      "display_name": "Python 3"
    }
  },
  "cells": [
    {
      "cell_type": "markdown",
      "metadata": {
        "id": "C6GiJ7ixeOOU",
        "colab_type": "text"
      },
      "source": [
        "#Intro to Data Science Assignment 5\n",
        "##Linear Algebra Foundations\n",
        "\n",
        "For the short answers:\n",
        "     Feel free to do any additional research, but try your best to answer the questions in your own words (don't copy/paste).\n",
        "     \n",
        "For the computations by hand:\n",
        "      If you'd like to use LaTex to make things pretty, by all means give it a try, but it is *optional*. You can answer the questions using algebraic-like notation. For instance if I was adding two vectors:\n",
        "      \n",
        "[1,2] + [2,3] => (1+2), (2+3) => [3,5] \n",
        "\n",
        "**Show your work, not just the answer**\n",
        "\n",
        "For the graphs:\n",
        "   Make them as pretty as you like\n",
        "   \n",
        " For using the tools (numpy):\n",
        "    Use labeled print statements as shown"
      ]
    },
    {
      "cell_type": "markdown",
      "metadata": {
        "id": "yJJdtDoVeiYV",
        "colab_type": "text"
      },
      "source": [
        "#Short Answer Questions\n",
        "\n",
        "1) Describe a vector\n",
        "\n",
        "2) Describe a matrix\n",
        "\n",
        "3) What can we do with vectors?\n",
        "\n",
        "4) What are basis vectors?\n",
        "\n",
        "5) What is an inverse matrix?\n",
        "\n",
        "6) What is the transpose of a matrix?\n"
      ]
    },
    {
      "cell_type": "markdown",
      "metadata": {
        "id": "J2okSel_f1lS",
        "colab_type": "text"
      },
      "source": [
        "##Your Answers go here:\n",
        "\n",
        "1) \n",
        "\n",
        "2)\n",
        "\n",
        "3)\n",
        "\n",
        "4)\n",
        "\n",
        "5) \n",
        "\n",
        "6)"
      ]
    },
    {
      "cell_type": "markdown",
      "metadata": {
        "id": "Lb-jyiXZgHfH",
        "colab_type": "text"
      },
      "source": [
        "#Computations by hand\n",
        "\n",
        "1) $ \\begin {bmatrix} 1 \\\\ 3 \\\\ 4 \\end {bmatrix} + \\begin {bmatrix} 4 \\\\ 2 \\\\ 6 \\end {bmatrix} $\n",
        "\n",
        "2) $ 5 \\begin {bmatrix} 1 \\\\ 2 \\\\ 3 \\end{bmatrix} $\n",
        "\n",
        "3) $ \\begin {bmatrix} 1  &  3\\\\ 2 & 3  \\end{bmatrix} \\begin {bmatrix} 1 \\\\ 2 \\end{bmatrix} $\n",
        "\n",
        "4) $ \\begin {bmatrix} 1  &  3\\\\ 2 & 3 \\end{bmatrix} \\begin {bmatrix} 2 & 2 \\\\ 3 & 1 \\end{bmatrix} $\n",
        "\n",
        "5) What is the transpose of :\n",
        "\n",
        "$ \\begin{bmatrix} 1 & 4 \\\\ 2 & 5 \\\\ 3 & 6 \\end{bmatrix} $ \n",
        "\n",
        "6) What is the determinant of:\n",
        "\n",
        " $\\begin {bmatrix} 2 & 2 \\\\ 3 & 1 \\end{bmatrix}$\n",
        " \n",
        " 7) What is the inverse matrix of: \n",
        " \n",
        "  $\\begin {bmatrix} 3 & 2 \\\\ 1 & 2 \\end{bmatrix}$"
      ]
    },
    {
      "cell_type": "markdown",
      "metadata": {
        "id": "LdnLfusWjcZQ",
        "colab_type": "text"
      },
      "source": [
        "## Your Answers go here:\n",
        "\n",
        "1)\n",
        "\n",
        "2)\n",
        "\n",
        "3)\n",
        "\n",
        "4) \n",
        "\n",
        "5) \n",
        "\n",
        "6)\n",
        "\n",
        "7)"
      ]
    },
    {
      "cell_type": "markdown",
      "metadata": {
        "id": "B7q5osaBjo10",
        "colab_type": "text"
      },
      "source": [
        "##Visualize the Vectors\n",
        "\n",
        "Graph the following:\n",
        "\n",
        "  Vector v_1 = [1,0] \n",
        "  \n",
        "  Vector v_2 = v_1 scaled by 2\n",
        "  \n",
        "  Vector v_3 = [0,-1]\n",
        "  \n",
        "  Vector v_4 = the sum of v_2 and v_3\n",
        " "
      ]
    },
    {
      "cell_type": "code",
      "metadata": {
        "id": "uy65IMqbeNKw",
        "colab_type": "code",
        "colab": {}
      },
      "source": [
        "# Visualize the vectors graph goes here"
      ],
      "execution_count": 0,
      "outputs": []
    },
    {
      "cell_type": "markdown",
      "metadata": {
        "id": "jWDov3LvlF9C",
        "colab_type": "text"
      },
      "source": [
        "## Graph the Matrix\n",
        "\n",
        "Graph the columns and rows of this matrix: \n",
        " $\\begin {bmatrix} 2 & 2 \\\\ 3 & 1 \\end{bmatrix}$"
      ]
    },
    {
      "cell_type": "code",
      "metadata": {
        "id": "Vru0b8zOlEUQ",
        "colab_type": "code",
        "colab": {}
      },
      "source": [
        "# Matrix graph goes here"
      ],
      "execution_count": 0,
      "outputs": []
    },
    {
      "cell_type": "markdown",
      "metadata": {
        "id": "QbBhyPwhlggH",
        "colab_type": "text"
      },
      "source": [
        "## Using the tools: NumPy Edition\n",
        "\n",
        "Use the NumPy library to compute the \"Computations by Hand\" section. Make sure to print each answer and label your print statement"
      ]
    },
    {
      "cell_type": "code",
      "metadata": {
        "id": "JcjUoEANlf8Q",
        "colab_type": "code",
        "outputId": "911caaa1-4e9e-4cdd-b991-5e79730ca3b0",
        "colab": {
          "base_uri": "https://localhost:8080/",
          "height": 34
        }
      },
      "source": [
        "# Code goes here\n",
        "# Example of labeling your print statement\n",
        "\n",
        "v_0 = [1,2]\n",
        "print('v_0 =', v_0)"
      ],
      "execution_count": 0,
      "outputs": [
        {
          "output_type": "stream",
          "text": [
            "v_0 = [1, 2]\n"
          ],
          "name": "stdout"
        }
      ]
    }
  ]
}