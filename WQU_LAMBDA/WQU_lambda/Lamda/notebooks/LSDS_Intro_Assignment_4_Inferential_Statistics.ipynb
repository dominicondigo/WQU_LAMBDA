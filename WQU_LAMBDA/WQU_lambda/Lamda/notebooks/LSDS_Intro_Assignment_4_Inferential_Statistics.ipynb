{
  "nbformat": 4,
  "nbformat_minor": 0,
  "metadata": {
    "colab": {
      "name": "LSDS Intro Assignment 4 - Inferential Statistics.ipynb",
      "version": "0.3.2",
      "provenance": [],
      "collapsed_sections": []
    },
    "kernelspec": {
      "display_name": "Python 3",
      "language": "python",
      "name": "python3"
    }
  },
  "cells": [
    {
      "cell_type": "markdown",
      "metadata": {
        "id": "LSwe_aflLNyk",
        "colab_type": "text"
      },
      "source": [
        "# Lambda School, Intro to Data Science, Day 4\n",
        "\n",
        "## Inferential Statistics Assignment"
      ]
    },
    {
      "cell_type": "code",
      "metadata": {
        "id": "i19U8PYQLNym",
        "colab_type": "code",
        "colab": {}
      },
      "source": [
        "%matplotlib inline\n",
        "import matplotlib.pyplot as plt\n",
        "import pandas as pd\n",
        "import random\n",
        "from statistics import mean, stdev"
      ],
      "execution_count": 0,
      "outputs": []
    },
    {
      "cell_type": "markdown",
      "metadata": {
        "id": "Gi1JCNi1LNyp",
        "colab_type": "text"
      },
      "source": [
        "# Titanic\n",
        "\n",
        "Use the [`describe` function in pandas](https://pandas.pydata.org/pandas-docs/stable/generated/pandas.DataFrame.describe.html) to calculate summary statistics (including mean and standard deviation) for `age` and `fare`.\n",
        "\n",
        "Think, and be ready to discuss: How do these two features compare in their central tendency and in their spread?"
      ]
    },
    {
      "cell_type": "code",
      "metadata": {
        "id": "r2ZTA_lILNyq",
        "colab_type": "code",
        "colab": {}
      },
      "source": [
        "df = pd.read_csv('https://raw.githubusercontent.com/ryanleeallred/datasets/master/titanic.csv', index_col=0)\n",
        "features = ['age', 'fare']\n",
        "df.dropna(subset=features, inplace=True)"
      ],
      "execution_count": 0,
      "outputs": []
    },
    {
      "cell_type": "code",
      "metadata": {
        "id": "N04bFF3PLNys",
        "colab_type": "code",
        "colab": {}
      },
      "source": [
        ""
      ],
      "execution_count": 0,
      "outputs": []
    },
    {
      "cell_type": "markdown",
      "metadata": {
        "id": "dfFb3yzjLNyu",
        "colab_type": "text"
      },
      "source": [
        "Plot histograms for both features.\n",
        "\n",
        "Think, and be ready to discuss: What do you notice about the shape of these distributions?"
      ]
    },
    {
      "cell_type": "code",
      "metadata": {
        "id": "K2M9twlfLNyu",
        "colab_type": "code",
        "colab": {}
      },
      "source": [
        ""
      ],
      "execution_count": 0,
      "outputs": []
    },
    {
      "cell_type": "code",
      "metadata": {
        "id": "He1QDkWXLNyw",
        "colab_type": "code",
        "colab": {}
      },
      "source": [
        ""
      ],
      "execution_count": 0,
      "outputs": []
    },
    {
      "cell_type": "markdown",
      "metadata": {
        "id": "5cXkMdm-LNyz",
        "colab_type": "text"
      },
      "source": [
        "# Clumsy Carl\n",
        "\n",
        "Re-do the Clumsy Carl problem -- but suppose that Carl broke **2** of 5 dishes. What's the p-value?\n",
        "\n",
        "Think, and be ready to discuss: Would you reject the null hypothesis?\n",
        "\n",
        "Suggestion: You can look at the lecture notebook, but **don't copy-paste** from it!\n",
        "\n",
        "> You must type each of these exercises in, manually. If you copy and paste, you might as well not even do them. The point of these exercises is to train your hands, your brain, and your mind in how to read, write, and see code. If you copy-paste, you are cheating yourself out of the effectiveness of the lessons. —*[Learn Python the Hard Way](https://learnpythonthehardway.org/book/intro.html)*\n",
        "\n",
        "---\n",
        "\n",
        "Here's the problem restated:\n",
        "\n",
        "Imagine a restaurant employs five dishwashers:\n",
        "- Alice\n",
        "- Bob\n",
        "- Carl\n",
        "- Dave\n",
        "- Eric\n",
        "\n",
        "One week, they break five dishes -- and Carl breaks **two** of the five. So, his coworkers have a hypothesis: Carl is clumsy!\n",
        "\n",
        "Carl says no, it was just bad luck and random chance: it could have happened to anybody. We can call this the null hypothesis.\n",
        "\n",
        "Can we do some math to help answer this argument? What's the probability it was just bad luck?\n",
        "\n",
        "We can write a Monte Carlo simulation to estimate the probability that Carl breaks at least four of the five dishes, assuming that breaking a dish is a truly random event. (We'll assume that the dishwashers have identical workloads and skills.)\n"
      ]
    },
    {
      "cell_type": "code",
      "metadata": {
        "id": "5IdSBJnmLNy0",
        "colab_type": "code",
        "colab": {}
      },
      "source": [
        "dishwashers = ['Alice', 'Bob', 'Carl', 'Dave', 'Eric']"
      ],
      "execution_count": 0,
      "outputs": []
    },
    {
      "cell_type": "code",
      "metadata": {
        "id": "etpy-I1ILNy2",
        "colab_type": "code",
        "colab": {}
      },
      "source": [
        ""
      ],
      "execution_count": 0,
      "outputs": []
    },
    {
      "cell_type": "markdown",
      "metadata": {
        "id": "lbuNLuPVLNy4",
        "colab_type": "text"
      },
      "source": [
        "# Two dice\n",
        "\n",
        "Simulate the distribution of adding two dice.\n",
        "\n",
        "What is the mean? Standard deviation?"
      ]
    },
    {
      "cell_type": "code",
      "metadata": {
        "id": "Cn1yEJDQLNy5",
        "colab_type": "code",
        "colab": {}
      },
      "source": [
        ""
      ],
      "execution_count": 0,
      "outputs": []
    },
    {
      "cell_type": "markdown",
      "metadata": {
        "id": "8Q0iMN5-LNy7",
        "colab_type": "text"
      },
      "source": [
        "What is the standard score (z score) of rolling a 10?"
      ]
    },
    {
      "cell_type": "code",
      "metadata": {
        "id": "9kOLJtxjLNy7",
        "colab_type": "code",
        "colab": {}
      },
      "source": [
        ""
      ],
      "execution_count": 0,
      "outputs": []
    },
    {
      "cell_type": "markdown",
      "metadata": {
        "id": "OXVQVpV0LNy-",
        "colab_type": "text"
      },
      "source": [
        "What is the probability of rolling a 10 or higher?"
      ]
    },
    {
      "cell_type": "code",
      "metadata": {
        "id": "YfWhW40YLNy_",
        "colab_type": "code",
        "colab": {}
      },
      "source": [
        ""
      ],
      "execution_count": 0,
      "outputs": []
    },
    {
      "cell_type": "markdown",
      "metadata": {
        "id": "p8zeToPqLNzB",
        "colab_type": "text"
      },
      "source": [
        "# Harvest"
      ]
    },
    {
      "cell_type": "markdown",
      "metadata": {
        "id": "xf08Iq7uLNzC",
        "colab_type": "text"
      },
      "source": [
        "Using bootstrap resampling, calculate the 95% confidence interval for mean apple weight ..."
      ]
    },
    {
      "cell_type": "code",
      "metadata": {
        "id": "9pjuLKH5LNzC",
        "colab_type": "code",
        "colab": {}
      },
      "source": [
        "def bootstrap_sample(items):\n",
        "    # Random resample *with replacement*\n",
        "    return random.choices(items, k=len(items))\n",
        "\n",
        "def percentile(x, p):\n",
        "    # x: List of numbers\n",
        "    # p: Percentile, between 0 and 100\n",
        "    i = round(len(x) * p/100)\n",
        "    return sorted(x)[i]\n",
        "\n",
        "apples = [.5, .4, .5, .6, .3, .7]"
      ],
      "execution_count": 0,
      "outputs": []
    },
    {
      "cell_type": "code",
      "metadata": {
        "id": "khfyPC0ULNzD",
        "colab_type": "code",
        "colab": {}
      },
      "source": [
        ""
      ],
      "execution_count": 0,
      "outputs": []
    },
    {
      "cell_type": "markdown",
      "metadata": {
        "id": "xsqjoIYJLNzH",
        "colab_type": "text"
      },
      "source": [
        "... and for mean pumpkin weight:"
      ]
    },
    {
      "cell_type": "code",
      "metadata": {
        "id": "nqXdG9hQLNzH",
        "colab_type": "code",
        "colab": {}
      },
      "source": [
        "pumpkins = [1, 1, 1, 3, 3, 591]"
      ],
      "execution_count": 0,
      "outputs": []
    },
    {
      "cell_type": "code",
      "metadata": {
        "id": "c65JnpNHLNzI",
        "colab_type": "code",
        "colab": {}
      },
      "source": [
        ""
      ],
      "execution_count": 0,
      "outputs": []
    }
  ]
}